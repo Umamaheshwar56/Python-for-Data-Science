{
 "cells": [
  {
   "cell_type": "markdown",
   "id": "f1511174",
   "metadata": {},
   "source": [
    "# NumPy"
   ]
  },
  {
   "cell_type": "markdown",
   "id": "74d1a9b8",
   "metadata": {},
   "source": [
    "## Basics of NumPy"
   ]
  },
  {
   "cell_type": "code",
   "execution_count": null,
   "id": "9e895be4",
   "metadata": {},
   "outputs": [],
   "source": [
    "Creating an Array\n",
    "Select the correct option to create a 1-d array using the following elements (1.0, 2, 3.5, 0.2, True). \n",
    "(Note that ‘True’ must be provided as a Boolean value, not as a string.)\n",
    "\n",
    "\n",
    "np.array(1.0, 2, 3.5, 0.2, True)\n",
    "\n",
    "np.array( [1.0, 2, 3.5, 0.2, \"True\"] )\n",
    "\n",
    "np.array( [1.0, 2, 3.5, 0.2, True] )   ✓ Correct"
   ]
  },
  {
   "cell_type": "markdown",
   "id": "c8f0fe7b",
   "metadata": {},
   "source": []
  },
  {
   "cell_type": "code",
   "execution_count": null,
   "id": "f2da5d3e",
   "metadata": {},
   "outputs": [],
   "source": [
    "NumPy Array\n",
    "What is the default data type of each element in the array created in the previous question?\n",
    "\n",
    "\n",
    "String\n",
    "\n",
    "\n",
    "Integer\n",
    "\n",
    "\n",
    "Float    ✓ Correct"
   ]
  },
  {
   "cell_type": "markdown",
   "id": "0393f6a8",
   "metadata": {},
   "source": []
  },
  {
   "cell_type": "code",
   "execution_count": null,
   "id": "5acfabf8",
   "metadata": {},
   "outputs": [],
   "source": [
    "Creating an array\n",
    "Is it possible to create an array from a tuple?\n",
    "\n",
    "\n",
    "Yes   ✓ Correct"
   ]
  },
  {
   "cell_type": "markdown",
   "id": "2b457f27",
   "metadata": {},
   "source": []
  },
  {
   "cell_type": "markdown",
   "id": "b13448b8",
   "metadata": {},
   "source": [
    "## Operations Over 1-D Arrays"
   ]
  },
  {
   "cell_type": "code",
   "execution_count": null,
   "id": "5f4f7295",
   "metadata": {},
   "outputs": [],
   "source": [
    "Indexing Array\n",
    "Given an array:\n",
    "\n",
    "array_1 = [1,2,3,5,4,6,7,8,5,3,2]\n",
    "What will be the output of the code provided below?\n",
    "\n",
    "print(array_1[:3])\n",
    " \n",
    "\n",
    "\n",
    "[1, 2, 3, 5]\n",
    "\n",
    "\n",
    "[1, 2, 3]    ✓ Correct"
   ]
  },
  {
   "cell_type": "markdown",
   "id": "4225ba27",
   "metadata": {},
   "source": []
  },
  {
   "cell_type": "code",
   "execution_count": null,
   "id": "9e374cf6",
   "metadata": {},
   "outputs": [],
   "source": [
    "Indexing Array\n",
    "Given an array:\n",
    "\n",
    "array_1 = [1,2,3,5,4,6,7,8,5,3,2]\n",
    "What will be the output of the code provided below?\n",
    "\n",
    "print(array_1[2:-3])\n",
    " \n",
    "\n",
    "\n",
    "[3 5 4 6 7 8]\n",
    " \n",
    "\n",
    "✓ Correct"
   ]
  },
  {
   "cell_type": "markdown",
   "id": "54875cf4",
   "metadata": {},
   "source": []
  },
  {
   "cell_type": "code",
   "execution_count": null,
   "id": "b3bb5320",
   "metadata": {},
   "outputs": [],
   "source": [
    "Indexing Array\n",
    "Given an array:\n",
    "\n",
    "array_1 = [1,2,3,5,4,6,7,8,5,3,2]\n",
    "What will be the output of the code provided below?\n",
    "(Hint: The syntax is [starting value : end value : step value])\n",
    "\n",
    "print(array_1[ : : -2])\n",
    " \n",
    "\n",
    "\n",
    "[2, 5, 6, 8, 3]\n",
    " \n",
    "\n",
    "\n",
    "[1, 3, 4, 7, 5, 2]\n",
    " \n",
    "\n",
    "\n",
    "[2, 5, 7, 4, 3, 1]   ✓ Correct"
   ]
  },
  {
   "cell_type": "markdown",
   "id": "c8fd9aef",
   "metadata": {},
   "source": []
  },
  {
   "cell_type": "code",
   "execution_count": null,
   "id": "cfebc70b",
   "metadata": {},
   "outputs": [],
   "source": [
    "Indexing Array\n",
    "How would you extract all the elements with an odd index in a given array?\n",
    "(Hint: Odd index refers to the position of the element, not the actual value)\n",
    "\n",
    "\n",
    "array[1:1]\n",
    "\n",
    "array[: : 2]\n",
    "\n",
    "array[1: : 2]\n",
    "✓ Correct\n"
   ]
  },
  {
   "cell_type": "markdown",
   "id": "3f7a6615",
   "metadata": {},
   "source": []
  },
  {
   "cell_type": "code",
   "execution_count": null,
   "id": "23f382e3",
   "metadata": {},
   "outputs": [],
   "source": [
    "Extracting Elements from Array\n",
    "Description\n",
    "From a given array, extract all the elements which are greater than 'm' and less than 'n'. Note: 'm' and 'n' are integer values provided as input.\n",
    "\n",
    "\n",
    "\n",
    "Input format:\n",
    "\n",
    "A list of integers on line one\n",
    "\n",
    "Integer 'm' on line two\n",
    "\n",
    "Integer 'n' on line three\n",
    "\n",
    "\n",
    "\n",
    "Output format:\n",
    "\n",
    "1-D array containing integers greater than 'm' and smaller than 'n'."
   ]
  },
  {
   "cell_type": "code",
   "execution_count": null,
   "id": "3d0a27de",
   "metadata": {},
   "outputs": [],
   "source": [
    "import ast \n",
    "input_list=ast.literal_eval(input())\n",
    "m=int(input())\n",
    "n=int(input())\n",
    "\n",
    "import numpy as np\n",
    "array_1 = np.array(input_list)\n",
    "final_array = array_1[(array_1<n) & (array_1>m)]\n",
    "\n",
    "print(final_array)\n",
    "\n"
   ]
  },
  {
   "cell_type": "code",
   "execution_count": null,
   "id": "e3991e0a",
   "metadata": {},
   "outputs": [],
   "source": []
  },
  {
   "cell_type": "markdown",
   "id": "900a861a",
   "metadata": {},
   "source": [
    "## Practice Exercise I"
   ]
  },
  {
   "cell_type": "markdown",
   "id": "608ecb0c",
   "metadata": {},
   "source": [
    "#### How many different products are sold by the company in total?\n",
    "\n",
    "-  99\n",
    "-  100\n",
    "-  101\n",
    "-  102\n"
   ]
  },
  {
   "cell_type": "code",
   "execution_count": 13,
   "id": "60cc034a",
   "metadata": {},
   "outputs": [
    {
     "data": {
      "text/plain": [
       "102"
      ]
     },
     "execution_count": 13,
     "metadata": {},
     "output_type": "execute_result"
    }
   ],
   "source": [
    "number.size"
   ]
  },
  {
   "cell_type": "markdown",
   "id": "8847e689",
   "metadata": {},
   "source": [
    "#### How many items were sold in total?\n",
    "\n",
    "-  460\n",
    "-  490\n",
    "-  500\n",
    "-  520\n"
   ]
  },
  {
   "cell_type": "code",
   "execution_count": 25,
   "id": "1ca5f21a",
   "metadata": {},
   "outputs": [
    {
     "data": {
      "text/plain": [
       "490"
      ]
     },
     "execution_count": 25,
     "metadata": {},
     "output_type": "execute_result"
    }
   ],
   "source": [
    "quantity =  number.sum() \n",
    "quantity"
   ]
  },
  {
   "cell_type": "markdown",
   "id": "1b02186c",
   "metadata": {},
   "source": [
    "#### What is the average price of the products sold by the ecommerce company?\n",
    "\n",
    "-  139\n",
    "-  151\n",
    "-  142\n",
    "-  128"
   ]
  },
  {
   "cell_type": "code",
   "execution_count": 22,
   "id": "b43f96b7",
   "metadata": {},
   "outputs": [
    {
     "data": {
      "text/plain": [
       "139.01960784313727"
      ]
     },
     "execution_count": 22,
     "metadata": {},
     "output_type": "execute_result"
    }
   ],
   "source": [
    "price.mean() "
   ]
  },
  {
   "cell_type": "markdown",
   "id": "5609b450",
   "metadata": {},
   "source": [
    "#### What is the price of the costliest item sold?\n",
    "\n",
    "-  225\n",
    "-  310\n",
    "-  280\n",
    "-  285"
   ]
  },
  {
   "cell_type": "code",
   "execution_count": 23,
   "id": "593a2965",
   "metadata": {},
   "outputs": [
    {
     "data": {
      "text/plain": [
       "285"
      ]
     },
     "execution_count": 23,
     "metadata": {},
     "output_type": "execute_result"
    }
   ],
   "source": [
    "price.max() "
   ]
  },
  {
   "cell_type": "markdown",
   "id": "32c9eb8b",
   "metadata": {},
   "source": [
    "#### What is the total revenue of the company? [Revenue = Price\\*Quantity]\n",
    "\n",
    "-  67100\n",
    "-  53900\n",
    "-  45300\n",
    "-  71200"
   ]
  },
  {
   "cell_type": "code",
   "execution_count": 27,
   "id": "e1c9c059",
   "metadata": {},
   "outputs": [
    {
     "data": {
      "text/plain": [
       "67100"
      ]
     },
     "execution_count": 27,
     "metadata": {},
     "output_type": "execute_result"
    }
   ],
   "source": [
    "revenue = np.sum(price*number) \n",
    "revenue"
   ]
  },
  {
   "cell_type": "markdown",
   "id": "7c5605a4",
   "metadata": {
    "collapsed": true
   },
   "source": [
    "#### Demand for the 20th product in the list is more than the 50th product. [True/False]\n",
    "-  True\n",
    "-  False\n",
    "-  Can't be calculated"
   ]
  },
  {
   "cell_type": "code",
   "execution_count": 28,
   "id": "65a977c4",
   "metadata": {},
   "outputs": [
    {
     "data": {
      "text/plain": [
       "True"
      ]
     },
     "execution_count": 28,
     "metadata": {},
     "output_type": "execute_result"
    }
   ],
   "source": [
    "number[19]>number[49] "
   ]
  },
  {
   "cell_type": "markdown",
   "id": "a61ecf3b",
   "metadata": {},
   "source": [
    "#### How many products fall under the category of expensive goods? \n",
    "An expensive good is that good whose price is more than the average price of the products sold by the company.\n",
    "\n",
    "-  48\n",
    "-  50\n",
    "-  52\n",
    "-  54"
   ]
  },
  {
   "cell_type": "code",
   "execution_count": 29,
   "id": "59e89d6b",
   "metadata": {},
   "outputs": [
    {
     "data": {
      "text/plain": [
       "52"
      ]
     },
     "execution_count": 29,
     "metadata": {},
     "output_type": "execute_result"
    }
   ],
   "source": [
    "price[price > price.mean()].size "
   ]
  },
  {
   "cell_type": "code",
   "execution_count": null,
   "id": "fe7fa0be",
   "metadata": {},
   "outputs": [],
   "source": []
  },
  {
   "cell_type": "markdown",
   "id": "71b8fa6f",
   "metadata": {},
   "source": [
    "## Multidimensional Arrays"
   ]
  },
  {
   "cell_type": "code",
   "execution_count": null,
   "id": "b8e1ab3a",
   "metadata": {},
   "outputs": [],
   "source": [
    "Border Rows and Columns\n",
    "Description\n",
    "Extract all the border rows and columns from a 2-D array.\n",
    "\n",
    "Format:\n",
    "Input: A 2-D Python list\n",
    "Output: Four NumPy arrays - First column of the input array, first row of the input array, last column of the input array, last row of the input array respectively.\n"
   ]
  },
  {
   "cell_type": "code",
   "execution_count": null,
   "id": "d03a2021",
   "metadata": {},
   "outputs": [],
   "source": [
    "import ast,sys\n",
    "input_str = sys.stdin.read()\n",
    "input_list = ast.literal_eval(input_str)\n",
    "\n",
    "import numpy as np\n",
    "\n",
    "\n",
    "array_2d =np.array(input_list)\n",
    "\n",
    "\n",
    "\n",
    "col_1 = array_2d[:, 0]\n",
    "row_1 = array_2d[0, :]\n",
    "col_last = array_2d[:, -1]\n",
    "row_last = array_2d[-1, :]\n",
    "\n",
    "print(col_1)\n",
    "print(row_1)\n",
    "print(col_last)\n",
    "print(row_last)\n"
   ]
  },
  {
   "cell_type": "code",
   "execution_count": null,
   "id": "c4372d6b",
   "metadata": {},
   "outputs": [],
   "source": []
  },
  {
   "cell_type": "markdown",
   "id": "3e1a9851",
   "metadata": {},
   "source": [
    "## Creating NumPy Arrays"
   ]
  },
  {
   "cell_type": "code",
   "execution_count": null,
   "id": "a32bdc2f",
   "metadata": {},
   "outputs": [],
   "source": [
    "Array 'arange' Function\n",
    "Description\n",
    "Create an array of first 10 multiples of 5 using the 'arange' function."
   ]
  },
  {
   "cell_type": "code",
   "execution_count": null,
   "id": "fa03b66e",
   "metadata": {},
   "outputs": [],
   "source": [
    "\n",
    "import numpy as np\n",
    "array_multipleof5 =  np.arange(5,51,5)\n",
    "\n",
    "print(array_multipleof5)"
   ]
  },
  {
   "cell_type": "markdown",
   "id": "40ad9cb8",
   "metadata": {},
   "source": []
  },
  {
   "cell_type": "code",
   "execution_count": null,
   "id": "7234293a",
   "metadata": {},
   "outputs": [],
   "source": [
    "Create border array\n",
    "Description\n",
    "Given a single integer n, create an (n x n) 2D array with 1 on the border and 0 on the inside.\n",
    "\n",
    "Note: Make sure the array is of type int.\n",
    "\n",
    "Example:\n",
    "Input 1:\n",
    "4\n",
    "Output 1:\n",
    "[[1 1 1 1]\n",
    "[1 0 0 1]\n",
    "[1 0 0 1]\n",
    "[1 1 1 1]]"
   ]
  },
  {
   "cell_type": "code",
   "execution_count": null,
   "id": "8afcf182",
   "metadata": {},
   "outputs": [],
   "source": [
    "n = int(input())\n",
    "\n",
    "import numpy as np\n",
    "\n",
    "border_array = np.ones((n, n), dtype = int)\n",
    "\n",
    "border_array[1:-1, 1:-1] = 0\n",
    "\n",
    "print(border_array)"
   ]
  },
  {
   "cell_type": "code",
   "execution_count": null,
   "id": "452b6e3c",
   "metadata": {},
   "outputs": [],
   "source": []
  },
  {
   "cell_type": "markdown",
   "id": "f4388ce6",
   "metadata": {},
   "source": [
    "## Mathematical Operations on NumPy"
   ]
  },
  {
   "cell_type": "code",
   "execution_count": null,
   "id": "84185b00",
   "metadata": {},
   "outputs": [],
   "source": [
    "Index of the 100th Element\n",
    "Consider an (11,12) shape array. What is the index (x,y) of the 100th element? Note: For counting the elements, go row-wise. For example, in the array:\n",
    "\n",
    "[[1, 5, 9],\n",
    " [3, 0, 2]]\n",
    "the 5th element would be '0'.\n",
    "\n",
    "\n",
    "(8, 3)   ✓ Correct"
   ]
  },
  {
   "cell_type": "markdown",
   "id": "0640a0b5",
   "metadata": {},
   "source": []
  },
  {
   "cell_type": "code",
   "execution_count": null,
   "id": "bd257c51",
   "metadata": {},
   "outputs": [],
   "source": [
    "Reshaping an Array\n",
    "Suppose you have an array 'p':\n",
    "\n",
    "[[1, 5],\n",
    " [3, 7],\n",
    " [4, 9]]\n",
    "What will be the output of the following code?\n",
    "\n",
    "np.reshape(p, -1)\n",
    " \n",
    "\n",
    "\n",
    "1-d array   ✓ Correct"
   ]
  },
  {
   "cell_type": "markdown",
   "id": "2f2af59d",
   "metadata": {},
   "source": []
  },
  {
   "cell_type": "code",
   "execution_count": null,
   "id": "8e9316a3",
   "metadata": {},
   "outputs": [],
   "source": [
    "Reshaping an Array\n",
    "Consider the array provided below: \n",
    "\n",
    "[[1, 2, 3, 4, 5]\n",
    " [6, 7, 8, 9, 10]\n",
    " [11, 12, 13, 14, 15]\n",
    " [16, 17, 18, 19, 20]]\n",
    "Now, you are expected to generate the following array out of it:\n",
    "\n",
    "[[1, 3]\n",
    " [5, 7]\n",
    " [9, 11]\n",
    " [13, 15]\n",
    " [17, 19]]\n",
    "Which code will give you the correct output?\n",
    "(Hint: Also check if one or more options are correct.)\n",
    "\n",
    "\n",
    "print(array_1.reshape(5, 4)[array_1%2 != 0])\n",
    "\n",
    "print(array_1[array_1%2 != 0])\n",
    "\n",
    "print(array_1[array_1%2 == 0].reshape(5, 2))\n",
    "\n",
    "print(array_1[array_1%2 != 0].reshape(5, 2))  ✓ Correct"
   ]
  },
  {
   "cell_type": "markdown",
   "id": "07fd4cd4",
   "metadata": {},
   "source": []
  },
  {
   "cell_type": "code",
   "execution_count": null,
   "id": "98976615",
   "metadata": {},
   "outputs": [],
   "source": [
    "Reshaping an array\n",
    "Suppose you have an array 'p'\n",
    "\n",
    "[[1, 5],\n",
    " [3, 7],\n",
    " [4, 9]]\n",
    "What will be the output of the following code?\n",
    "\n",
    "np.reshape(p, (1, -1))\n",
    " \n",
    "\n",
    "\n",
    "1-D Array\n",
    "\n",
    "\n",
    "2-D Array   ✓ Correct"
   ]
  },
  {
   "cell_type": "markdown",
   "id": "8ab185be",
   "metadata": {},
   "source": []
  },
  {
   "cell_type": "code",
   "execution_count": null,
   "id": "c70bd1bb",
   "metadata": {},
   "outputs": [],
   "source": [
    "Stacking arrays\n",
    "Description\n",
    "Merge the three arrays provided to you to form a one 4x4 array.\n",
    "\n",
    "[Hint: Check the function np.transpose() in the 'Manipulating Arrays' notebook provided.]"
   ]
  },
  {
   "cell_type": "code",
   "execution_count": null,
   "id": "ea0c3d8c",
   "metadata": {},
   "outputs": [],
   "source": [
    "import ast,sys\n",
    "input_str = sys.stdin.read()\n",
    "input_list = ast.literal_eval(input_str)\n",
    "list_1 = input_list[0]\n",
    "list_2 = input_list[1]\n",
    "list_3 = input_list[2]\n",
    "\n",
    "import numpy as np\n",
    "\n",
    "final_array = np.hstack([np.vstack([np.array(list_1),np.array(list_2)]), np.transpose(np.array(list_3))])\n",
    "print(final_array)\n"
   ]
  },
  {
   "cell_type": "code",
   "execution_count": null,
   "id": "78b7448b",
   "metadata": {},
   "outputs": [],
   "source": []
  },
  {
   "cell_type": "markdown",
   "id": "482d8134",
   "metadata": {},
   "source": [
    "## Practice Exercise II"
   ]
  },
  {
   "cell_type": "code",
   "execution_count": null,
   "id": "a51e08c3",
   "metadata": {},
   "outputs": [],
   "source": []
  },
  {
   "cell_type": "markdown",
   "id": "dbacdc0b",
   "metadata": {},
   "source": [
    "#### Q-1: What are the dimensions of the array created using the list 'score'?\n",
    "\n",
    "-  1\n",
    "-  2\n",
    "-  3\n",
    "-  4\n"
   ]
  },
  {
   "cell_type": "code",
   "execution_count": 10,
   "id": "e8995308",
   "metadata": {},
   "outputs": [
    {
     "data": {
      "text/plain": [
       "2"
      ]
     },
     "execution_count": 10,
     "metadata": {},
     "output_type": "execute_result"
    }
   ],
   "source": [
    "score.ndim "
   ]
  },
  {
   "cell_type": "markdown",
   "id": "a635899a",
   "metadata": {},
   "source": [
    "#### Q-2: How many players scored zero runs in their inning?\n",
    "\n",
    "-  20\n",
    "-  22\n",
    "-  24\n",
    "-  26\n"
   ]
  },
  {
   "cell_type": "code",
   "execution_count": 9,
   "id": "efef6b26",
   "metadata": {},
   "outputs": [
    {
     "data": {
      "text/plain": [
       "26"
      ]
     },
     "execution_count": 9,
     "metadata": {},
     "output_type": "execute_result"
    }
   ],
   "source": [
    "len(score[score[:,0]==0])"
   ]
  },
  {
   "cell_type": "markdown",
   "id": "0f147e91",
   "metadata": {},
   "source": [
    "#### Q-3: What is the maximum number of wickets taken by a player?\n",
    "\n",
    "-  4\n",
    "-  6\n",
    "-  3\n",
    "-  5"
   ]
  },
  {
   "cell_type": "code",
   "execution_count": 11,
   "id": "e6555e4c",
   "metadata": {},
   "outputs": [
    {
     "data": {
      "text/plain": [
       "4"
      ]
     },
     "execution_count": 11,
     "metadata": {},
     "output_type": "execute_result"
    }
   ],
   "source": [
    "np.max(score[:, 1])"
   ]
  },
  {
   "cell_type": "markdown",
   "id": "0ad1919c",
   "metadata": {},
   "source": [
    "#### Q-4: Find the ID of the player who scored the maximum runs in the innings\n",
    "\n",
    "\n",
    "-  193\n",
    "-  219\n",
    "-  548\n",
    "-  1021\n"
   ]
  },
  {
   "cell_type": "code",
   "execution_count": 12,
   "id": "89627ea2",
   "metadata": {},
   "outputs": [
    {
     "data": {
      "text/plain": [
       "array([548])"
      ]
     },
     "execution_count": 12,
     "metadata": {},
     "output_type": "execute_result"
    }
   ],
   "source": [
    "player[score[:, 0] == np.max(score[:, 0])]"
   ]
  },
  {
   "cell_type": "markdown",
   "id": "e8ca499f",
   "metadata": {},
   "source": [
    "#### Q-5: You are asked to check for all-rounders within the given set of players. How many all-rounders are present in the provided list?\n",
    "An all-rounder is someone who is good in both, batting and bowling.\n",
    "Check if the individual has taken 2 or more wickets and scored more than 35 runs in their innings\n",
    "\n",
    "-  5\n",
    "-  6\n",
    "-  7\n",
    "-  8"
   ]
  },
  {
   "cell_type": "code",
   "execution_count": 13,
   "id": "def3c8be",
   "metadata": {},
   "outputs": [
    {
     "data": {
      "text/plain": [
       "6"
      ]
     },
     "execution_count": 13,
     "metadata": {},
     "output_type": "execute_result"
    }
   ],
   "source": [
    "len(score[(score[:, 0]>35) & (score[:, 1]>=2)])"
   ]
  },
  {
   "cell_type": "code",
   "execution_count": null,
   "id": "d1abe257",
   "metadata": {},
   "outputs": [],
   "source": []
  },
  {
   "cell_type": "markdown",
   "id": "de1b70a2",
   "metadata": {},
   "source": [
    "# pandas"
   ]
  },
  {
   "cell_type": "markdown",
   "id": "cc42ea0e",
   "metadata": {},
   "source": [
    "## Basics of Pandas\n"
   ]
  },
  {
   "cell_type": "code",
   "execution_count": null,
   "id": "e02f244e",
   "metadata": {},
   "outputs": [],
   "source": [
    "Loading a csv in Pandas\n",
    "Description\n",
    "Create a dataframe from the file ‘marks.csv’ and print the contents of the dataframe. Open the file from the link above and inspect the required elements in the file (header, separator, etc.). If the top row is a regular entry, do not load it as the column header."
   ]
  },
  {
   "cell_type": "code",
   "execution_count": null,
   "id": "df19a472",
   "metadata": {},
   "outputs": [],
   "source": [
    "import numpy as np\n",
    "import pandas as pd\n",
    "\n",
    "df = pd.read_csv('https://media-doselect.s3.amazonaws.com/generic/A08MajL8qN4rq72EpVJbAP1Rw/marks_1.csv', sep='|', header=None)\n",
    "\n",
    "x = pd.DataFrame(df)\n",
    "print(x)"
   ]
  },
  {
   "cell_type": "code",
   "execution_count": null,
   "id": "1184746a",
   "metadata": {},
   "outputs": [],
   "source": []
  },
  {
   "cell_type": "markdown",
   "id": "f3f0c77c",
   "metadata": {},
   "source": [
    "## Pandas - Rows and Columns\n"
   ]
  },
  {
   "cell_type": "code",
   "execution_count": null,
   "id": "94dd0067",
   "metadata": {},
   "outputs": [],
   "source": [
    "Setting the Index\n",
    "Which of the following functions is used to change the name of an existing index in a dataframe?\n",
    "\n",
    "\n",
    "df.set_index\n",
    "\n",
    "df.index_name\n",
    "\n",
    "df.index.name    ✓ Correct"
   ]
  },
  {
   "cell_type": "markdown",
   "id": "4bba80cb",
   "metadata": {},
   "source": []
  },
  {
   "cell_type": "code",
   "execution_count": null,
   "id": "733c5e26",
   "metadata": {},
   "outputs": [],
   "source": [
    "Loading a csv with index\n",
    "Description\n",
    "Using the file ‘marks.csv’, create a dataframe as shown below."
   ]
  },
  {
   "cell_type": "code",
   "execution_count": null,
   "id": "f78b5ea5",
   "metadata": {},
   "outputs": [],
   "source": [
    "import numpy as np\n",
    "import pandas as pd\n",
    "\n",
    "df = pd.read_csv('https://media-doselect.s3.amazonaws.com/generic/A08MajL8qN4rq72EpVJbAP1Rw/marks_1.csv', sep = '|', index_col=0,header=None)\n",
    "df.index.name = 'S.No.'\n",
    "# df.columns = ['Name','Subject']\n",
    "df.columns = ['Name','Subject','Maximum Marks','Marks Obtained','Percentage']\n",
    "\n",
    "print(df)"
   ]
  },
  {
   "cell_type": "code",
   "execution_count": null,
   "id": "cb98cfdd",
   "metadata": {},
   "outputs": [],
   "source": []
  },
  {
   "cell_type": "markdown",
   "id": "134eb353",
   "metadata": {},
   "source": [
    "## Describing Data\n"
   ]
  },
  {
   "cell_type": "code",
   "execution_count": null,
   "id": "5a66a7ab",
   "metadata": {},
   "outputs": [],
   "source": [
    "Hierarchical Indexing\n",
    "Description\n",
    "You are provided with the dataset of a company which has offices across three cities - Mumbai, Bangalore and New Delhi. The dataset contains the rating (out of 5) of all the employees from different departments (Finance, HR, Marketing and Sales). \n",
    "\n",
    "\n",
    "\n",
    "Create a hierarchical index based on two columns: Office and Department\n",
    "\n",
    "\n",
    "\n",
    "Print the first 5 rows as the output. Refer to the image below for your reference.\n",
    "\n"
   ]
  },
  {
   "cell_type": "code",
   "execution_count": null,
   "id": "4f157d6a",
   "metadata": {},
   "outputs": [],
   "source": [
    "import numpy as np\n",
    "import pandas as pd\n",
    "\n",
    "df = pd.read_csv('https://media-doselect.s3.amazonaws.com/generic/NMgEjwkAEGGQZBoNYGr9Ld7w0/rating.csv', index_col = [2,1])\n",
    "df.sort_index(inplace=True)\n",
    "ds = df.head()\n",
    "print(ds)"
   ]
  },
  {
   "cell_type": "markdown",
   "id": "de08879e",
   "metadata": {},
   "source": []
  },
  {
   "cell_type": "code",
   "execution_count": null,
   "id": "9852aaf8",
   "metadata": {},
   "outputs": [],
   "source": [
    "Describing Data\n",
    "Which of the following commands would you use to check the count of all the entries in each column in the dataframe as well as the count of the non-null entries in each column in the dataframe at the same time?\n",
    "\n",
    "\n",
    "describe()\n",
    "\n",
    "\n",
    "info()   ✓ Correct"
   ]
  },
  {
   "cell_type": "markdown",
   "id": "91f0be72",
   "metadata": {},
   "source": []
  },
  {
   "cell_type": "code",
   "execution_count": null,
   "id": "a9cc68fa",
   "metadata": {},
   "outputs": [],
   "source": [
    "DataFrames\n",
    "Description\n",
    "Given a dataframe 'df' use the following commands and analyse the result.\n",
    "describe() \n",
    "columns\n",
    "shape"
   ]
  },
  {
   "cell_type": "code",
   "execution_count": null,
   "id": "8ac89bfd",
   "metadata": {},
   "outputs": [],
   "source": [
    "import numpy as np\n",
    "import pandas as pd\n",
    "import ssl\n",
    "ssl._create_default_https_context = ssl._create_unverified_context\n",
    "df = pd.read_csv('https://query.data.world/s/vBDCsoHCytUSLKkLvq851k2b8JOCkF.csv')\n",
    "print(df.describe())\n",
    "print(df.columns)\n",
    "print(df.shape)"
   ]
  },
  {
   "cell_type": "markdown",
   "id": "1ea62135",
   "metadata": {},
   "source": []
  },
  {
   "cell_type": "markdown",
   "id": "fe3cb3e3",
   "metadata": {},
   "source": [
    "## Indexing and Slicing"
   ]
  },
  {
   "cell_type": "code",
   "execution_count": null,
   "id": "1ebcd2d2",
   "metadata": {},
   "outputs": [],
   "source": [
    "Selecting Columns of a Dataframe\n",
    "Description\n",
    "Print out the columns 'month', 'day', 'temp', 'area' from the dataframe 'df'."
   ]
  },
  {
   "cell_type": "code",
   "execution_count": null,
   "id": "cf064b47",
   "metadata": {},
   "outputs": [],
   "source": [
    "import pandas as pd\n",
    "import ssl\n",
    "ssl._create_default_https_context = ssl._create_unverified_context\n",
    "df = pd.read_csv('https://query.data.world/s/vBDCsoHCytUSLKkLvq851k2b8JOCkF')\n",
    "df_2 = df[[\"month\",\"day\",\"temp\",\"area\"]]\n",
    "print(df_2.head(20))"
   ]
  },
  {
   "cell_type": "markdown",
   "id": "e61c37ca",
   "metadata": {},
   "source": []
  },
  {
   "cell_type": "code",
   "execution_count": null,
   "id": "b616b48c",
   "metadata": {},
   "outputs": [],
   "source": [
    "Indexing Dataframes\n",
    "Description\n",
    "Print only the even numbers of rows of the dataframe 'df'.\n",
    "\n",
    "Note: Don't include the row indexed zero."
   ]
  },
  {
   "cell_type": "code",
   "execution_count": null,
   "id": "b97c686b",
   "metadata": {},
   "outputs": [],
   "source": [
    "import pandas as pd\n",
    "import ssl\n",
    "ssl._create_default_https_context = ssl._create_unverified_context\n",
    "df = pd.read_csv('https://query.data.world/s/vBDCsoHCytUSLKkLvq851k2b8JOCkF')\n",
    "df_2 = df.iloc[::2,:]\n",
    "x = df_2.drop(0)\n",
    "print(x.head(20))"
   ]
  },
  {
   "cell_type": "markdown",
   "id": "e8c92a95",
   "metadata": {},
   "source": []
  },
  {
   "cell_type": "code",
   "execution_count": null,
   "id": "1b507d17",
   "metadata": {},
   "outputs": [],
   "source": [
    "Indexing and Slicing\n",
    "Take a look at the dataframe (‘df’) provided below.\n",
    "\n",
    "\n",
    "df.loc[[2], [\"S.No.\", \"Name\", \"Subject\", \"Percentage\"]]\n",
    "\n",
    "df.loc[[3], [\"Name\", \"Subject\", \"Percentage\"]]   ✓ Correct\n",
    "\n",
    "df.iloc[[2], [0, 1, 4]]    ✓ Correct"
   ]
  },
  {
   "cell_type": "markdown",
   "id": "e38002ec",
   "metadata": {},
   "source": []
  },
  {
   "cell_type": "code",
   "execution_count": null,
   "id": "d8fb419f",
   "metadata": {},
   "outputs": [],
   "source": [
    "iloc vs loc\n",
    "What is the difference between the use of iloc and loc?"
   ]
  },
  {
   "cell_type": "code",
   "execution_count": null,
   "id": "dd0605ad",
   "metadata": {},
   "outputs": [],
   "source": [
    "The functionalities of iloc and loc are different; iloc fetches the rows/columns at a particular position (and hence takes an integer as input), whereas loc fetches rows/columns with particular labels."
   ]
  },
  {
   "cell_type": "markdown",
   "id": "1e89fa33",
   "metadata": {},
   "source": []
  },
  {
   "cell_type": "code",
   "execution_count": null,
   "id": "b3a7d9df",
   "metadata": {},
   "outputs": [],
   "source": [
    "Applying Conditions on Dataframes\n",
    "Description\n",
    "Print all the columns and the rows where 'area' is greater than 0, 'wind' is greater than 1 and the 'temp' is greater than 15."
   ]
  },
  {
   "cell_type": "code",
   "execution_count": null,
   "id": "cea9a10c",
   "metadata": {},
   "outputs": [],
   "source": [
    "import pandas as pd\n",
    "import ssl\n",
    "ssl._create_default_https_context = ssl._create_unverified_context\n",
    "df = pd.read_csv('https://query.data.world/s/vBDCsoHCytUSLKkLvq851k2b8JOCkF')\n",
    "df_2 = df[(df[\"area\"]>0)&(df[\"wind\"]>1)&(df[\"temp\"]>15)]\n",
    "print(df_2.head(20))\n"
   ]
  },
  {
   "cell_type": "code",
   "execution_count": null,
   "id": "9ab3dc72",
   "metadata": {},
   "outputs": [],
   "source": []
  },
  {
   "cell_type": "markdown",
   "id": "4fb95d3f",
   "metadata": {},
   "source": [
    "## Operations on Dataframes"
   ]
  },
  {
   "cell_type": "code",
   "execution_count": null,
   "id": "4e889263",
   "metadata": {},
   "outputs": [],
   "source": [
    "Description\n",
    "You are provided with the dataset of a company which has offices across three cities - Mumbai, Bangalore and New Delhi. The dataset contains the rating (out of 5) of all the employees from different departments (Finance, HR, Marketing and Sales). \n",
    "\n",
    "\n",
    "\n",
    "The company has come up with a new policy that any individual with a rating equal to or below 3.5 needs to attend a training. Using dataframes, load the dataset and then derive the column ‘Training’ which shows ‘Yes’ for people who require training and ‘No’ for those who do not.\n",
    "\n"
   ]
  },
  {
   "cell_type": "code",
   "execution_count": null,
   "id": "ff1aac33",
   "metadata": {},
   "outputs": [],
   "source": [
    "import numpy as np\n",
    "import pandas as pd\n",
    "import ssl\n",
    "ssl._create_default_https_context = ssl._create_unverified_context\n",
    "df = pd.read_csv('https://media-doselect.s3.amazonaws.com/generic/NMgEjwkAEGGQZBoNYGr9Ld7w0/rating.csv')\n",
    "df['Training'] = df.Rating.apply(lambda x: 'Yes' if x <= 3.5 else 'No')\n",
    "print(df.head())"
   ]
  },
  {
   "cell_type": "markdown",
   "id": "8b30024d",
   "metadata": {},
   "source": []
  },
  {
   "cell_type": "code",
   "execution_count": null,
   "id": "8af3625a",
   "metadata": {},
   "outputs": [],
   "source": [
    "Dataframe\n",
    " In the dataframe created above, find the department that has the most efficient team (the team with minimum percentage of employees who need training).\n",
    "\n",
    "\n",
    "Finance\n",
    "\n",
    "\n",
    "HR    ✓ Correct"
   ]
  },
  {
   "cell_type": "code",
   "execution_count": null,
   "id": "84f727a3",
   "metadata": {},
   "outputs": [],
   "source": []
  },
  {
   "cell_type": "markdown",
   "id": "3b401bdd",
   "metadata": {},
   "source": [
    "## Groupby and Aggregate Functions"
   ]
  },
  {
   "cell_type": "code",
   "execution_count": null,
   "id": "6b4f3b4c",
   "metadata": {},
   "outputs": [],
   "source": [
    "Groupby function\n",
    "What does the function: dataframe.groupby() return without any aggregate function?\n",
    "\n",
    "\n",
    "A new dataframe is created\n",
    "\n",
    "\n",
    "A Pandas object is created   ✓ Correct"
   ]
  },
  {
   "cell_type": "markdown",
   "id": "9e3a7580",
   "metadata": {},
   "source": []
  },
  {
   "cell_type": "code",
   "execution_count": null,
   "id": "e0471d02",
   "metadata": {},
   "outputs": [],
   "source": [
    "Dataframe grouping\n",
    "Description\n",
    "Group the dataframe 'df' by 'month' and 'day' and find the mean value for column 'rain' and 'wind'."
   ]
  },
  {
   "cell_type": "code",
   "execution_count": null,
   "id": "11cf56b4",
   "metadata": {},
   "outputs": [],
   "source": [
    "import pandas as pd\n",
    "df = pd.read_csv('https://cdn.upgrad.com/uploads/production/b3467ba4-4e13-44e9-8087-4d7e94cc7586/forestfires.csv')\n",
    "by = df.groupby(['month', 'day'])\n",
    "df_1 = by['rain','wind'].mean()\n",
    "print(df_1.head(20))"
   ]
  },
  {
   "cell_type": "code",
   "execution_count": null,
   "id": "719589d2",
   "metadata": {},
   "outputs": [],
   "source": []
  },
  {
   "cell_type": "markdown",
   "id": "18a5980e",
   "metadata": {},
   "source": [
    "## Merging DataFrames\n"
   ]
  },
  {
   "cell_type": "code",
   "execution_count": null,
   "id": "ff99a24b",
   "metadata": {},
   "outputs": [],
   "source": [
    "Merging Dataframes\n",
    "Suppose you are provided with two dataframes:\n",
    "    \n",
    "df_1.merge(df_2, how = 'left')\n",
    "\n",
    "df_1.merge(df_2, how = 'right')\n",
    "\n",
    "df_1.merge(df_2, how = 'inner')  ✓ Correct"
   ]
  },
  {
   "cell_type": "markdown",
   "id": "8ea535d0",
   "metadata": {},
   "source": []
  },
  {
   "cell_type": "code",
   "execution_count": null,
   "id": "48eb310f",
   "metadata": {},
   "outputs": [],
   "source": [
    "Dataframes Merge\n",
    "Description\n",
    "Perform an inner merge on two data frames df_1 and df_2 on  'unique_id' and print the combined dataframe."
   ]
  },
  {
   "cell_type": "code",
   "execution_count": null,
   "id": "9e5d14e4",
   "metadata": {},
   "outputs": [],
   "source": [
    "import pandas as pd\n",
    "import ssl\n",
    "ssl._create_default_https_context = ssl._create_unverified_context\n",
    "df_1 = pd.read_csv('https://query.data.world/s/vv3snq28bp0TJq2ggCdxGOghEQKPZo')\n",
    "df_2 = pd.read_csv('https://query.data.world/s/9wVKjNT0yiRc3YbVJaiI8a6HGl2d74')\n",
    "df_3 = df_1.merge(df_2, on = 'unique_id',how = 'inner')\n",
    "print(df_3.head(20))\n"
   ]
  },
  {
   "cell_type": "markdown",
   "id": "344083e1",
   "metadata": {},
   "source": []
  },
  {
   "cell_type": "code",
   "execution_count": null,
   "id": "e0661b50",
   "metadata": {},
   "outputs": [],
   "source": [
    "Dataframe Append\n",
    "Description\n",
    "Append two datasets df_1 and df_2, and print the combined dataframe."
   ]
  },
  {
   "cell_type": "markdown",
   "id": "098c14ac",
   "metadata": {},
   "source": [
    "####    wrong answer  #####\n",
    "import warnings\n",
    "warnings.simplefilter(\"ignore\")\n",
    "\n",
    "import pandas as pd\n",
    "df_1 = pd.read_csv('https://query.data.world/s/vv3snq28bp0TJq2ggCdxGOghEQKPZo')\n",
    "df_2 = pd.read_csv('https://query.data.world/s/9wVKjNT0yiRc3YbVJaiI8a6HGl2d74')\n",
    "\n",
    "df_3 = pd.concat([df_1, df_2])\n",
    "\n",
    "print(df_3.head())"
   ]
  },
  {
   "cell_type": "markdown",
   "id": "1dae6a56",
   "metadata": {},
   "source": []
  },
  {
   "cell_type": "markdown",
   "id": "6b718ac9",
   "metadata": {},
   "source": [
    "Operations on multiple dataframes\n",
    "Description\n",
    "Given three data frames containing the number of gold, silver, and bronze Olympic medals won by some countries, determine the total number of medals won by each country. \n",
    "\n",
    "Note: All three data frames don’t have all the same countries. So, ensure you use the ‘fill_value’ argument (set it to zero), to avoid getting NaN values. Also, ensure you sort the final data frame, according to the total medal count in descending order. Make sure that the results are in integers."
   ]
  },
  {
   "cell_type": "code",
   "execution_count": null,
   "id": "09bbf3e1",
   "metadata": {},
   "outputs": [],
   "source": [
    "import numpy as np \n",
    "import pandas as pd\n",
    "import ssl\n",
    "ssl._create_default_https_context = ssl._create_unverified_context\n",
    "gold = pd.DataFrame({'Country': ['USA', 'France', 'Russia'],\n",
    "                         'Medals': [15, 13, 9]}\n",
    "                    )\n",
    "silver = pd.DataFrame({'Country': ['USA', 'Germany', 'Russia'],\n",
    "                        'Medals': [29, 20, 16]}\n",
    "                    )\n",
    "bronze = pd.DataFrame({'Country': ['France', 'USA', 'UK'],\n",
    "                        'Medals': [40, 28, 27]}\n",
    "                    )\n",
    "\n",
    "gold.set_index('Country', inplace = True)\n",
    "silver.set_index('Country', inplace = True) \n",
    "bronze.set_index('Country', inplace = True) \n",
    "\n",
    "total = gold.add(silver, fill_value = 0).add(bronze, fill_value = 0)\n",
    "total = total.sort_values(by = 'Medals', ascending = False)\n",
    "# total_1 = \n",
    "print(total.astype(int))"
   ]
  },
  {
   "cell_type": "code",
   "execution_count": null,
   "id": "a2f6a587",
   "metadata": {},
   "outputs": [],
   "source": []
  },
  {
   "cell_type": "markdown",
   "id": "3f4faf28",
   "metadata": {},
   "source": [
    "## Pivot Tables"
   ]
  },
  {
   "cell_type": "code",
   "execution_count": null,
   "id": "5698a633",
   "metadata": {},
   "outputs": [],
   "source": [
    "Dataframe Pivot Table\n",
    "Description\n",
    "Group the data 'df' by 'month' and 'day' and find the mean value for column 'rain' and 'wind' using the pivot table command."
   ]
  },
  {
   "cell_type": "code",
   "execution_count": null,
   "id": "930e5091",
   "metadata": {},
   "outputs": [],
   "source": [
    "import numpy as np\n",
    "import pandas as pd\n",
    "import ssl\n",
    "ssl._create_default_https_context = ssl._create_unverified_context\n",
    "df = pd.read_csv('https://query.data.world/s/vBDCsoHCytUSLKkLvq851k2b8JOCkF')\n",
    "df_1 = df.pivot_table(index = ['month','day'], aggfunc = 'mean')\n",
    "df_2 = df_1[['rain','wind']]\n",
    "print(df_2.head(20))"
   ]
  },
  {
   "cell_type": "code",
   "execution_count": null,
   "id": "8b422977",
   "metadata": {},
   "outputs": [],
   "source": []
  },
  {
   "cell_type": "markdown",
   "id": "4729800f",
   "metadata": {},
   "source": [
    "## Practice Exercise"
   ]
  },
  {
   "cell_type": "code",
   "execution_count": null,
   "id": "a84faad8",
   "metadata": {},
   "outputs": [],
   "source": [
    "Structure of a Dataframe\n",
    "How many rows and columns are present in the dataframe? \n",
    "\n",
    "\n",
    "(3821, 26)\n",
    "\n",
    "\n",
    "(3879, 28)\n",
    "\n",
    "\n",
    "(3853, 28)    ✓ Correct"
   ]
  },
  {
   "cell_type": "markdown",
   "id": "9dd59591",
   "metadata": {},
   "source": []
  },
  {
   "cell_type": "code",
   "execution_count": null,
   "id": "28434fca",
   "metadata": {},
   "outputs": [],
   "source": [
    "Columns with Null values\n",
    "How many columns have null values present in them? Try writing code for this instead of counting them manually.\n",
    "\n",
    "\n",
    "3\n",
    "\n",
    "\n",
    "6\n",
    "\n",
    "\n",
    "9\n",
    "\n",
    "\n",
    "12   ✓ Correct"
   ]
  },
  {
   "cell_type": "markdown",
   "id": "aa83f080",
   "metadata": {},
   "source": []
  },
  {
   "cell_type": "code",
   "execution_count": null,
   "id": "958907dc",
   "metadata": {},
   "outputs": [],
   "source": [
    "Dropping Columns\n",
    "What is the count of columns in the new dataframe?\n",
    "\n",
    "\n",
    "10\n",
    "\n",
    "\n",
    "13   ✓ Correct"
   ]
  },
  {
   "cell_type": "markdown",
   "id": "f203de76",
   "metadata": {},
   "source": []
  },
  {
   "cell_type": "code",
   "execution_count": null,
   "id": "31cc3bbe",
   "metadata": {},
   "outputs": [],
   "source": [
    "Deriving a Metric\n",
    "Which column has the highest percentage of null values?\n",
    "\n",
    "\n",
    "language    ✓ Correct"
   ]
  },
  {
   "cell_type": "markdown",
   "id": "6aea05af",
   "metadata": {},
   "source": []
  },
  {
   "cell_type": "code",
   "execution_count": null,
   "id": "e07828bc",
   "metadata": {},
   "outputs": [],
   "source": [
    "Replacing Null values\n",
    "What is the count of movies made in the English language after replacing the NaN values with English?\n",
    "\n",
    "\n",
    "3670\n",
    "\n",
    "\n",
    "3674   ✓ Correct"
   ]
  },
  {
   "cell_type": "markdown",
   "id": "f166fe20",
   "metadata": {},
   "source": []
  },
  {
   "cell_type": "code",
   "execution_count": null,
   "id": "d63211c4",
   "metadata": {},
   "outputs": [],
   "source": [
    "Sorting a dataframe\n",
    "Which movie is ranked 5th from the top in the list based on the net profit obtained?\n",
    "\n",
    "Note: net profit = gross - budget\n",
    "\n",
    "\n",
    "E.T. the Extra-Terrestrial    ✓ Correct"
   ]
  },
  {
   "cell_type": "markdown",
   "id": "32f20e4f",
   "metadata": {},
   "source": []
  },
  {
   "cell_type": "code",
   "execution_count": null,
   "id": "73449eec",
   "metadata": {},
   "outputs": [],
   "source": [
    "Analysing dataframes\n",
    "Suppose movies are divided into 5 buckets based on the IMDb ratings:\n",
    "\n",
    "[7.5, 8)\n",
    "[8, 8.5)\n",
    "[8.5, 9)\n",
    "[9, 9.5)\n",
    "[9.5, 10)\n",
    "Which bucket holds the maximum number of movies from IMDb_Top_250?\n",
    "\n",
    "\n",
    "[7.5, 8)\n",
    "\n",
    "\n",
    "[8, 8.5)    ✓ Correct"
   ]
  },
  {
   "cell_type": "markdown",
   "id": "a7c562c8",
   "metadata": {},
   "source": []
  },
  {
   "cell_type": "code",
   "execution_count": null,
   "id": "0dd98063",
   "metadata": {},
   "outputs": [],
   "source": [
    "Operations on Dataframe\n",
    "Which actor is highest rated among the three actors according to the user reviews?\n",
    "\n",
    "\n",
    "Meryl Streep\n",
    "\n",
    "\n",
    "Leonardo DiCaprio    ✓ Correct"
   ]
  },
  {
   "cell_type": "markdown",
   "id": "e5100bdc",
   "metadata": {},
   "source": []
  },
  {
   "cell_type": "code",
   "execution_count": null,
   "id": "42c84a4d",
   "metadata": {},
   "outputs": [],
   "source": [
    "Operations on Dataframe\n",
    "Which actor is highest rated among the three actors according to the critics?\n",
    "\n",
    "\n",
    "Meryl Streep\n",
    "\n",
    "\n",
    "Leonardo DiCaprio    ✓ Correct"
   ]
  },
  {
   "cell_type": "code",
   "execution_count": null,
   "id": "5bf23021",
   "metadata": {},
   "outputs": [],
   "source": []
  },
  {
   "cell_type": "code",
   "execution_count": null,
   "id": "bf7a8b27",
   "metadata": {},
   "outputs": [],
   "source": []
  },
  {
   "cell_type": "code",
   "execution_count": 1,
   "id": "ed14bf67",
   "metadata": {},
   "outputs": [],
   "source": [
    "import jovian"
   ]
  },
  {
   "cell_type": "code",
   "execution_count": null,
   "id": "8c958207",
   "metadata": {},
   "outputs": [
    {
     "data": {
      "application/javascript": [
       "window.require && require([\"base/js/namespace\"],function(Jupyter){Jupyter.notebook.save_checkpoint()})"
      ],
      "text/plain": [
       "<IPython.core.display.Javascript object>"
      ]
     },
     "metadata": {},
     "output_type": "display_data"
    }
   ],
   "source": [
    "jovian.commit()"
   ]
  },
  {
   "cell_type": "code",
   "execution_count": null,
   "id": "cf2f191e",
   "metadata": {},
   "outputs": [],
   "source": []
  }
 ],
 "metadata": {
  "language_info": {
   "codemirror_mode": {
    "name": "ipython",
    "version": 3
   },
   "file_extension": ".py",
   "mimetype": "text/x-python",
   "name": "python",
   "nbconvert_exporter": "python",
   "pygments_lexer": "ipython3",
   "version": "3.9.7"
  }
 },
 "nbformat": 4,
 "nbformat_minor": 5
}